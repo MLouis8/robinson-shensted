{
 "cells": [
  {
   "cell_type": "code",
   "execution_count": 1,
   "id": "eba2a15d",
   "metadata": {},
   "outputs": [],
   "source": [
    "RuleYF = GrowthDiagram.rules.YoungFibonacci()"
   ]
  },
  {
   "cell_type": "code",
   "execution_count": 7,
   "id": "7e2a6aff",
   "metadata": {},
   "outputs": [
    {
     "data": {
      "text/plain": [
       "  0  0  1  0  0  0  0  0\n",
       "  0  0  0  0  0  0  1  0\n",
       "  0  0  0  0  0  0  0  1\n",
       "  1  0  0  0  0  0  0  0\n",
       "  0  0  0  0  0  1  0  0\n",
       "  0  0  0  1  0  0  0  0\n",
       "  0  1  0  0  0  0  0  0\n",
       "  0  0  0  0  1  0  0  0"
      ]
     },
     "execution_count": 7,
     "metadata": {},
     "output_type": "execute_result"
    }
   ],
   "source": [
    "pi = Permutation([4, 7, 1, 6, 8, 5, 2, 3])\n",
    "G = GrowthDiagram(RuleYF, pi); G"
   ]
  },
  {
   "cell_type": "code",
   "execution_count": 9,
   "id": "d4945d72",
   "metadata": {},
   "outputs": [
    {
     "data": {
      "text/plain": [
       "[(),\n",
       " (1,),\n",
       " (1, 1),\n",
       " (2, 1),\n",
       " (2, 2),\n",
       " (1, 2, 2),\n",
       " (2, 2, 2),\n",
       " (2, 2, 1, 2),\n",
       " (2, 2, 2, 2),\n",
       " (2, 2, 1, 2),\n",
       " (2, 2, 2),\n",
       " (2, 2, 1),\n",
       " (2, 1, 1),\n",
       " (1, 1, 1),\n",
       " (1, 1),\n",
       " (1,),\n",
       " ()]"
      ]
     },
     "execution_count": 9,
     "metadata": {},
     "output_type": "execute_result"
    }
   ],
   "source": [
    "[tuple(l) for l in G.out_labels()]"
   ]
  },
  {
   "cell_type": "code",
   "execution_count": null,
   "id": "a9dfdd7b",
   "metadata": {},
   "outputs": [],
   "source": []
  }
 ],
 "metadata": {
  "kernelspec": {
   "display_name": "SageMath 9.8",
   "language": "sage",
   "name": "sagemath"
  },
  "language_info": {
   "codemirror_mode": {
    "name": "ipython",
    "version": 3
   },
   "file_extension": ".py",
   "mimetype": "text/x-python",
   "name": "python",
   "nbconvert_exporter": "python",
   "pygments_lexer": "ipython3",
   "version": "3.10.10"
  }
 },
 "nbformat": 4,
 "nbformat_minor": 5
}
