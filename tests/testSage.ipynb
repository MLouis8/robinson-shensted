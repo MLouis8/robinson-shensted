{
 "cells": [
  {
   "cell_type": "code",
   "execution_count": 1,
   "id": "4ec359dd",
   "metadata": {},
   "outputs": [],
   "source": [
    "import sys\n",
    "import numpy as np\n",
    "sys.path.append('/home/louis/workspace/robinson-shensted')\n",
    "\n",
    "from algo import Permutation as permu, random_permutations"
   ]
  },
  {
   "cell_type": "code",
   "execution_count": 2,
   "id": "c4aa1df1",
   "metadata": {},
   "outputs": [
    {
     "ename": "IndexError",
     "evalue": "x must be an integer or at least 1-dimensional",
     "output_type": "error",
     "traceback": [
      "\u001b[0;31m---------------------------------------------------------------------------\u001b[0m",
      "\u001b[0;31mIndexError\u001b[0m                                Traceback (most recent call last)",
      "Cell \u001b[0;32mIn[2], line 2\u001b[0m\n\u001b[1;32m      1\u001b[0m RuleYF \u001b[38;5;241m=\u001b[39m GrowthDiagram\u001b[38;5;241m.\u001b[39mrules\u001b[38;5;241m.\u001b[39mYoungFibonacci()\n\u001b[0;32m----> 2\u001b[0m dataA \u001b[38;5;241m=\u001b[39m \u001b[43mrandom_permutations\u001b[49m\u001b[43m(\u001b[49m\u001b[43mInteger\u001b[49m\u001b[43m(\u001b[49m\u001b[38;5;241;43m16\u001b[39;49m\u001b[43m)\u001b[49m\u001b[43m,\u001b[49m\u001b[43m \u001b[49m\u001b[43mInteger\u001b[49m\u001b[43m(\u001b[49m\u001b[38;5;241;43m50\u001b[39;49m\u001b[43m)\u001b[49m\u001b[43m)\u001b[49m\n\u001b[1;32m      3\u001b[0m dataB \u001b[38;5;241m=\u001b[39m random_permutations(Integer(\u001b[38;5;241m11\u001b[39m), Integer(\u001b[38;5;241m22\u001b[39m))\n",
      "File \u001b[0;32m~/workspace/robinson-shensted/algo/Permutation.py:57\u001b[0m, in \u001b[0;36mrandom_permutations\u001b[0;34m(size, number)\u001b[0m\n\u001b[1;32m     54\u001b[0m rng \u001b[38;5;241m=\u001b[39m np\u001b[38;5;241m.\u001b[39mrandom\u001b[38;5;241m.\u001b[39mdefault_rng()\n\u001b[1;32m     55\u001b[0m \u001b[38;5;28;01mfor\u001b[39;00m i \u001b[38;5;129;01min\u001b[39;00m \u001b[38;5;28mrange\u001b[39m(number):\n\u001b[1;32m     56\u001b[0m     \u001b[38;5;66;03m#res.append(rng.permutation(size)+1)\u001b[39;00m\n\u001b[0;32m---> 57\u001b[0m     res\u001b[38;5;241m.\u001b[39mappend(\u001b[43mnp\u001b[49m\u001b[38;5;241;43m.\u001b[39;49m\u001b[43mrandom\u001b[49m\u001b[38;5;241;43m.\u001b[39;49m\u001b[43mpermutation\u001b[49m\u001b[43m(\u001b[49m\u001b[43msize\u001b[49m\u001b[43m)\u001b[49m\u001b[38;5;241m+\u001b[39m\u001b[38;5;241m1\u001b[39m)\n\u001b[1;32m     58\u001b[0m \u001b[38;5;28;01mreturn\u001b[39;00m res\n",
      "File \u001b[0;32mmtrand.pyx:4705\u001b[0m, in \u001b[0;36mnumpy.random.mtrand.RandomState.permutation\u001b[0;34m()\u001b[0m\n",
      "\u001b[0;31mIndexError\u001b[0m: x must be an integer or at least 1-dimensional"
     ]
    }
   ],
   "source": [
    "RuleYF = GrowthDiagram.rules.YoungFibonacci()\n",
    "dataA = random_permutations(16, 50)\n",
    "dataB = random_permutations(11, 22)"
   ]
  },
  {
   "cell_type": "code",
   "execution_count": null,
   "id": "1c346b0d",
   "metadata": {},
   "outputs": [],
   "source": []
  }
 ],
 "metadata": {
  "kernelspec": {
   "display_name": "SageMath 9.8",
   "language": "sage",
   "name": "sagemath"
  },
  "language_info": {
   "codemirror_mode": {
    "name": "ipython",
    "version": 3
   },
   "file_extension": ".py",
   "mimetype": "text/x-python",
   "name": "python",
   "nbconvert_exporter": "python",
   "pygments_lexer": "ipython3",
   "version": "3.10.10"
  }
 },
 "nbformat": 4,
 "nbformat_minor": 5
}
