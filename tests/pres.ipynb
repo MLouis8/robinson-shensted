{
 "cells": [
  {
   "cell_type": "code",
   "execution_count": 1,
   "metadata": {},
   "outputs": [],
   "source": [
    "import sys\n",
    "import numpy as np\n",
    "\n",
    "sys.path.append(\"/home/louis/workspace/robinson-shensted\")\n",
    "from algo import (\n",
    "    Permutation,\n",
    "    roby_insertion,\n",
    "    janvier_insertion,\n",
    "    permutation_to_growth_diagram,\n",
    "    permutation_to_chains_gd,\n",
    "    permutation_to_chains,\n",
    "    standard_YFT_to_chain,\n",
    "    chain_to_path_tableau,\n",
    "    chain_to_standard_YFT,\n",
    "    chains_to_growth_diagram,\n",
    "    evacuation,\n",
    "    display_involution\n",
    ")"
   ]
  },
  {
   "cell_type": "markdown",
   "metadata": {},
   "source": [
    "### Permutation"
   ]
  },
  {
   "cell_type": "code",
   "execution_count": 2,
   "metadata": {
    "scrolled": false
   },
   "outputs": [
    {
     "name": "stdout",
     "output_type": "stream",
     "text": [
      "[0. 0. 0. 0. 1. 0. 0. 0.]\n",
      "[1. 0. 0. 0. 0. 0. 0. 0.]\n",
      "[0. 0. 0. 0. 0. 0. 1. 0.]\n",
      "[0. 0. 0. 1. 0. 0. 0. 0.]\n",
      "[0. 0. 0. 0. 0. 1. 0. 0.]\n",
      "[0. 1. 0. 0. 0. 0. 0. 0.]\n",
      "[0. 0. 0. 0. 0. 0. 0. 1.]\n",
      "[0. 0. 1. 0. 0. 0. 0. 0.]\n"
     ]
    }
   ],
   "source": [
    "p = Permutation([7, 3, 1, 5, 8, 4, 6, 2])\n",
    "p._display_matrix()"
   ]
  },
  {
   "cell_type": "markdown",
   "metadata": {},
   "source": [
    "### Growth Diagram and chains"
   ]
  },
  {
   "cell_type": "code",
   "execution_count": 3,
   "metadata": {
    "scrolled": true
   },
   "outputs": [
    {
     "data": {
      "text/plain": [
       "array([[   0,    1,   11,   21,   22,  212,  222, 2122, 2222],\n",
       "       [   0,    1,    1,    2,   12,   22,  122,  222, 2212],\n",
       "       [   0,    1,    1,    2,   12,   22,   22,  212,  222],\n",
       "       [   0,    1,    1,    2,    2,   12,   12,   22,  122],\n",
       "       [   0,    1,    1,    2,    2,   12,   12,   22,   22],\n",
       "       [   0,    1,    1,    2,    2,    2,    2,   21,   21],\n",
       "       [   0,    0,    0,    1,    1,    1,    1,    2,    2],\n",
       "       [   0,    0,    0,    0,    0,    0,    0,    1,    1],\n",
       "       [   0,    0,    0,    0,    0,    0,    0,    0,    0]])"
      ]
     },
     "execution_count": 3,
     "metadata": {},
     "output_type": "execute_result"
    }
   ],
   "source": [
    "np.rot90(permutation_to_growth_diagram(p))"
   ]
  },
  {
   "cell_type": "code",
   "execution_count": 4,
   "metadata": {
    "scrolled": true
   },
   "outputs": [
    {
     "name": "stdout",
     "output_type": "stream",
     "text": [
      "[0, 1, 11, 21, 22, 212, 222, 2122, 2222]\n",
      "[0, 1, 2, 21, 22, 122, 222, 2212, 2222]\n"
     ]
    }
   ],
   "source": [
    "cA, cB = permutation_to_chains_gd(p)\n",
    "print(cA)\n",
    "print(cB)"
   ]
  },
  {
   "cell_type": "code",
   "execution_count": 5,
   "metadata": {
    "scrolled": true
   },
   "outputs": [
    {
     "name": "stdout",
     "output_type": "stream",
     "text": [
      "[0, 1, 11, 21, 22, 212, 222, 2122, 2222]\n",
      "[0, 1, 2, 21, 22, 122, 222, 2212, 2222]\n"
     ]
    }
   ],
   "source": [
    "cA, cB = permutation_to_chains(p)\n",
    "print(cA)\n",
    "print(cB)"
   ]
  },
  {
   "cell_type": "markdown",
   "metadata": {},
   "source": [
    "### Paths tableaux"
   ]
  },
  {
   "cell_type": "code",
   "execution_count": 6,
   "metadata": {
    "scrolled": false
   },
   "outputs": [
    {
     "name": "stdout",
     "output_type": "stream",
     "text": [
      "[2, 7, 5, 1] [3, 8, 6, 4]\n"
     ]
    }
   ],
   "source": [
    "p_tabA, p_tabB = chain_to_path_tableau(cA)\n",
    "print(p_tabA, p_tabB)"
   ]
  },
  {
   "cell_type": "markdown",
   "metadata": {},
   "source": [
    "### Roby relations"
   ]
  },
  {
   "cell_type": "code",
   "execution_count": 7,
   "metadata": {},
   "outputs": [
    {
     "name": "stdout",
     "output_type": "stream",
     "text": [
      "[ 2 6 4 1 ]\n",
      "[ 8 7 5 3 ]\n"
     ]
    }
   ],
   "source": [
    "invP, invQ = roby_insertion(p)\n",
    "display_involution(invP)"
   ]
  },
  {
   "cell_type": "code",
   "execution_count": 8,
   "metadata": {},
   "outputs": [
    {
     "data": {
      "text/plain": [
       "([2, 7, 4, 1], [6, 8, 5, 3])"
      ]
     },
     "execution_count": 8,
     "metadata": {},
     "output_type": "execute_result"
    }
   ],
   "source": [
    "evacuation(invP)"
   ]
  },
  {
   "cell_type": "markdown",
   "metadata": {},
   "source": [
    "### Janvier relations"
   ]
  },
  {
   "cell_type": "code",
   "execution_count": 9,
   "metadata": {
    "scrolled": true
   },
   "outputs": [
    {
     "name": "stdout",
     "output_type": "stream",
     "text": [
      "P: [8, 7, 5, 3]\n",
      "   [2, 6, 4, 1]\n",
      "Q: [8, 7, 6, 3]\n",
      "   [5, 1, 4, 2]\n"
     ]
    }
   ],
   "source": [
    "styfP, styfQ = janvier_insertion(p)\n",
    "print(f\"P: {styfP[1]}\\n   {styfP[0]}\\nQ: {styfQ[1]}\\n   {styfQ[0]}\")"
   ]
  },
  {
   "cell_type": "code",
   "execution_count": 10,
   "metadata": {},
   "outputs": [
    {
     "data": {
      "text/plain": [
       "[0, 1, 2, 12, 22, 221, 2211, 21211]"
      ]
     },
     "execution_count": 10,
     "metadata": {},
     "output_type": "execute_result"
    }
   ],
   "source": [
    "standard_YFT_to_chain(([3, 6, 1, 4, 2], [7, 0, 5, 0, 0]))"
   ]
  },
  {
   "cell_type": "code",
   "execution_count": 11,
   "metadata": {},
   "outputs": [
    {
     "data": {
      "text/plain": [
       "[0, 1, 11, 21, 22, 212, 222, 2122, 2222]"
      ]
     },
     "execution_count": 11,
     "metadata": {},
     "output_type": "execute_result"
    }
   ],
   "source": [
    "standard_YFT_to_chain(([2, 6, 4, 1], [8, 7, 5, 3]))"
   ]
  },
  {
   "cell_type": "code",
   "execution_count": 12,
   "metadata": {},
   "outputs": [
    {
     "name": "stdout",
     "output_type": "stream",
     "text": [
      "([2, 6, 4, 1], [8, 7, 5, 3])\n",
      "([5, 1, 4, 2], [8, 7, 6, 3])\n"
     ]
    }
   ],
   "source": [
    "print(chain_to_standard_YFT([0, 1, 11, 21, 22, 212, 222, 2122, 2222]))\n",
    "print(chain_to_standard_YFT([0, 1, 2, 21, 22, 122, 222, 2212, 2222]))"
   ]
  },
  {
   "cell_type": "code",
   "execution_count": null,
   "metadata": {},
   "outputs": [],
   "source": []
  }
 ],
 "metadata": {
  "kernelspec": {
   "display_name": "Python 3 (ipykernel)",
   "language": "python",
   "name": "python3"
  },
  "language_info": {
   "codemirror_mode": {
    "name": "ipython",
    "version": 3
   },
   "file_extension": ".py",
   "mimetype": "text/x-python",
   "name": "python",
   "nbconvert_exporter": "python",
   "pygments_lexer": "ipython3",
   "version": "3.10.10"
  }
 },
 "nbformat": 4,
 "nbformat_minor": 2
}
