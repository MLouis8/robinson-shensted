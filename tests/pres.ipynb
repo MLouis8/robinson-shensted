{
 "cells": [
  {
   "cell_type": "code",
   "execution_count": 32,
   "metadata": {},
   "outputs": [],
   "source": [
    "import sys\n",
    "import numpy as np\n",
    "\n",
    "sys.path.append(\"/home/louis/workspace/robinson-shensted\")\n",
    "from algo import (\n",
    "    Permutation,\n",
    "    roby_insertion,\n",
    "    janvier_insertion,\n",
    "    permutation_to_growth_diagram,\n",
    "    permutation_to_chains_gd,\n",
    "    permutation_to_chains,\n",
    "    standard_YFT_to_chain,\n",
    "    chain_to_path_tableau,\n",
    "    chain_to_standard_YFT,\n",
    "    chains_to_growth_diagram,\n",
    "    evacuation\n",
    ")"
   ]
  },
  {
   "cell_type": "markdown",
   "metadata": {},
   "source": [
    "### Permutation"
   ]
  },
  {
   "cell_type": "code",
   "execution_count": 25,
   "metadata": {
    "scrolled": false
   },
   "outputs": [
    {
     "name": "stdout",
     "output_type": "stream",
     "text": [
      "[0. 0. 0. 0. 1. 0. 0. 0.]\n",
      "[1. 0. 0. 0. 0. 0. 0. 0.]\n",
      "[0. 0. 0. 0. 0. 0. 1. 0.]\n",
      "[0. 0. 0. 1. 0. 0. 0. 0.]\n",
      "[0. 0. 0. 0. 0. 1. 0. 0.]\n",
      "[0. 1. 0. 0. 0. 0. 0. 0.]\n",
      "[0. 0. 0. 0. 0. 0. 0. 1.]\n",
      "[0. 0. 1. 0. 0. 0. 0. 0.]\n"
     ]
    }
   ],
   "source": [
    "p = Permutation([7, 3, 3-2, 5, 8, 4, 6, 2])\n",
    "p._display_matrix()"
   ]
  },
  {
   "cell_type": "markdown",
   "metadata": {},
   "source": [
    "### Growth Diagram and chains"
   ]
  },
  {
   "cell_type": "code",
   "execution_count": 26,
   "metadata": {
    "scrolled": true
   },
   "outputs": [
    {
     "data": {
      "text/plain": [
       "array([[   0,    1,   11,   21,   22,  212,  222, 2122, 2222],\n",
       "       [   0,    1,    1,    2,   12,   22,  122,  222, 2212],\n",
       "       [   0,    1,    1,    2,   12,   22,   22,  212,  222],\n",
       "       [   0,    1,    1,    2,    2,   12,   12,   22,  122],\n",
       "       [   0,    1,    1,    2,    2,   12,   12,   22,   22],\n",
       "       [   0,    1,    1,    2,    2,    2,    2,   21,   21],\n",
       "       [   0,    0,    0,    1,    1,    1,    1,    2,    2],\n",
       "       [   0,    0,    0,    0,    0,    0,    0,    1,    1],\n",
       "       [   0,    0,    0,    0,    0,    0,    0,    0,    0]])"
      ]
     },
     "execution_count": 26,
     "metadata": {},
     "output_type": "execute_result"
    }
   ],
   "source": [
    "np.rot90(permutation_to_growth_diagram(p))"
   ]
  },
  {
   "cell_type": "code",
   "execution_count": 27,
   "metadata": {
    "scrolled": true
   },
   "outputs": [
    {
     "name": "stdout",
     "output_type": "stream",
     "text": [
      "[0, 1, 11, 21, 22, 212, 222, 2122, 2222]\n",
      "[0, 1, 2, 21, 22, 122, 222, 2212, 2222]\n"
     ]
    }
   ],
   "source": [
    "cA, cB = permutation_to_chains_gd(p)\n",
    "print(cA)\n",
    "print(cB)"
   ]
  },
  {
   "cell_type": "code",
   "execution_count": 28,
   "metadata": {
    "scrolled": true
   },
   "outputs": [
    {
     "name": "stdout",
     "output_type": "stream",
     "text": [
      "[0, 1, 11, 21, 22, 212, 222, 2122, 2222]\n",
      "[0, 1, 2, 21, 22, 122, 222, 2212, 2222]\n"
     ]
    }
   ],
   "source": [
    "cA, cB = permutation_to_chains(p)\n",
    "print(cA)\n",
    "print(cB)"
   ]
  },
  {
   "cell_type": "markdown",
   "metadata": {},
   "source": [
    "### Paths tableaux"
   ]
  },
  {
   "cell_type": "code",
   "execution_count": 34,
   "metadata": {
    "scrolled": false
   },
   "outputs": [
    {
     "ename": "IndexError",
     "evalue": "list index out of range",
     "output_type": "error",
     "traceback": [
      "\u001b[0;31m---------------------------------------------------------------------------\u001b[0m",
      "\u001b[0;31mIndexError\u001b[0m                                Traceback (most recent call last)",
      "Cell \u001b[0;32mIn[34], line 1\u001b[0m\n\u001b[0;32m----> 1\u001b[0m p_tabA, p_tabB \u001b[38;5;241m=\u001b[39m \u001b[43mchain_to_path_tableau\u001b[49m\u001b[43m(\u001b[49m\u001b[43mcA\u001b[49m\u001b[43m)\u001b[49m\n\u001b[1;32m      2\u001b[0m \u001b[38;5;28mprint\u001b[39m(p_tab)\n",
      "File \u001b[0;32m~/workspace/robinson-shensted/algo/algorithms.py:132\u001b[0m, in \u001b[0;36mchain_to_path_tableau\u001b[0;34m(p)\u001b[0m\n\u001b[1;32m    130\u001b[0m s \u001b[38;5;241m=\u001b[39m \u001b[38;5;28msum\u001b[39m(act)\n\u001b[1;32m    131\u001b[0m \u001b[38;5;28;01mfor\u001b[39;00m k \u001b[38;5;129;01min\u001b[39;00m \u001b[38;5;28mrange\u001b[39m(\u001b[38;5;241m-\u001b[39m\u001b[38;5;241m2\u001b[39m, \u001b[38;5;241m-\u001b[39m\u001b[38;5;28mlen\u001b[39m(p) \u001b[38;5;241m-\u001b[39m \u001b[38;5;241m1\u001b[39m, \u001b[38;5;241m-\u001b[39m\u001b[38;5;241m1\u001b[39m):\n\u001b[0;32m--> 132\u001b[0m     i, j, act \u001b[38;5;241m=\u001b[39m \u001b[43mpath_tableau_rules\u001b[49m\u001b[43m(\u001b[49m\u001b[43mact\u001b[49m\u001b[43m,\u001b[49m\u001b[43m \u001b[49m\u001b[43m[\u001b[49m\u001b[38;5;28;43mint\u001b[39;49m\u001b[43m(\u001b[49m\u001b[43mh\u001b[49m\u001b[43m)\u001b[49m\u001b[43m \u001b[49m\u001b[38;5;28;43;01mfor\u001b[39;49;00m\u001b[43m \u001b[49m\u001b[43mh\u001b[49m\u001b[43m \u001b[49m\u001b[38;5;129;43;01min\u001b[39;49;00m\u001b[43m \u001b[49m\u001b[38;5;28;43mstr\u001b[39;49m\u001b[43m(\u001b[49m\u001b[43mp\u001b[49m\u001b[43m[\u001b[49m\u001b[43mk\u001b[49m\u001b[43m]\u001b[49m\u001b[43m)\u001b[49m\u001b[43m]\u001b[49m\u001b[43m,\u001b[49m\u001b[43m \u001b[49m\u001b[38;5;241;43m0\u001b[39;49m\u001b[43m,\u001b[49m\u001b[43m \u001b[49m\u001b[38;5;241;43m0\u001b[39;49m\u001b[43m)\u001b[49m\n\u001b[1;32m    133\u001b[0m     tab[i][j] \u001b[38;5;241m=\u001b[39m s\n\u001b[1;32m    134\u001b[0m     s \u001b[38;5;241m-\u001b[39m\u001b[38;5;241m=\u001b[39m \u001b[38;5;241m1\u001b[39m\n",
      "File \u001b[0;32m~/workspace/robinson-shensted/algo/algorithms.py:119\u001b[0m, in \u001b[0;36mchain_to_path_tableau.<locals>.path_tableau_rules\u001b[0;34m(a, b, k, l)\u001b[0m\n\u001b[1;32m    117\u001b[0m         a[k] \u001b[38;5;241m=\u001b[39m \u001b[38;5;241m0\u001b[39m\n\u001b[1;32m    118\u001b[0m         \u001b[38;5;28;01mreturn\u001b[39;00m \u001b[38;5;241m0\u001b[39m, k, a\n\u001b[0;32m--> 119\u001b[0m     \u001b[38;5;28;01mreturn\u001b[39;00m \u001b[43mpath_tableau_rules\u001b[49m\u001b[43m(\u001b[49m\u001b[43ma\u001b[49m\u001b[43m,\u001b[49m\u001b[43m \u001b[49m\u001b[43mb\u001b[49m\u001b[43m,\u001b[49m\u001b[43m \u001b[49m\u001b[43mk\u001b[49m\u001b[43m \u001b[49m\u001b[38;5;241;43m+\u001b[39;49m\u001b[43m \u001b[49m\u001b[38;5;241;43m1\u001b[39;49m\u001b[43m,\u001b[49m\u001b[43m \u001b[49m\u001b[43ml\u001b[49m\u001b[43m \u001b[49m\u001b[38;5;241;43m+\u001b[39;49m\u001b[43m \u001b[49m\u001b[38;5;241;43m1\u001b[39;49m\u001b[43m)\u001b[49m\n\u001b[1;32m    120\u001b[0m \u001b[38;5;28;01mcase\u001b[39;00m \u001b[38;5;241m2\u001b[39m:\n\u001b[1;32m    121\u001b[0m     \u001b[38;5;28;01mif\u001b[39;00m b[l] \u001b[38;5;241m==\u001b[39m \u001b[38;5;241m1\u001b[39m \u001b[38;5;129;01mor\u001b[39;00m b[l] \u001b[38;5;241m==\u001b[39m \u001b[38;5;241m0\u001b[39m:  \u001b[38;5;66;03m# transformation d'un 1\u001b[39;00m\n",
      "File \u001b[0;32m~/workspace/robinson-shensted/algo/algorithms.py:126\u001b[0m, in \u001b[0;36mchain_to_path_tableau.<locals>.path_tableau_rules\u001b[0;34m(a, b, k, l)\u001b[0m\n\u001b[1;32m    124\u001b[0m         \u001b[38;5;28;01melse\u001b[39;00m:\n\u001b[1;32m    125\u001b[0m             \u001b[38;5;28;01mreturn\u001b[39;00m path_tableau_rules(a, b, k \u001b[38;5;241m+\u001b[39m \u001b[38;5;241m1\u001b[39m, l \u001b[38;5;241m+\u001b[39m \u001b[38;5;241m1\u001b[39m)\n\u001b[0;32m--> 126\u001b[0m \u001b[38;5;28;01mreturn\u001b[39;00m \u001b[43mpath_tableau_rules\u001b[49m\u001b[43m(\u001b[49m\u001b[43ma\u001b[49m\u001b[43m,\u001b[49m\u001b[43m \u001b[49m\u001b[43mb\u001b[49m\u001b[43m,\u001b[49m\u001b[43m \u001b[49m\u001b[43mk\u001b[49m\u001b[43m \u001b[49m\u001b[38;5;241;43m+\u001b[39;49m\u001b[43m \u001b[49m\u001b[38;5;241;43m1\u001b[39;49m\u001b[43m,\u001b[49m\u001b[43m \u001b[49m\u001b[43ml\u001b[49m\u001b[43m)\u001b[49m\n",
      "File \u001b[0;32m~/workspace/robinson-shensted/algo/algorithms.py:126\u001b[0m, in \u001b[0;36mchain_to_path_tableau.<locals>.path_tableau_rules\u001b[0;34m(a, b, k, l)\u001b[0m\n\u001b[1;32m    124\u001b[0m         \u001b[38;5;28;01melse\u001b[39;00m:\n\u001b[1;32m    125\u001b[0m             \u001b[38;5;28;01mreturn\u001b[39;00m path_tableau_rules(a, b, k \u001b[38;5;241m+\u001b[39m \u001b[38;5;241m1\u001b[39m, l \u001b[38;5;241m+\u001b[39m \u001b[38;5;241m1\u001b[39m)\n\u001b[0;32m--> 126\u001b[0m \u001b[38;5;28;01mreturn\u001b[39;00m \u001b[43mpath_tableau_rules\u001b[49m\u001b[43m(\u001b[49m\u001b[43ma\u001b[49m\u001b[43m,\u001b[49m\u001b[43m \u001b[49m\u001b[43mb\u001b[49m\u001b[43m,\u001b[49m\u001b[43m \u001b[49m\u001b[43mk\u001b[49m\u001b[43m \u001b[49m\u001b[38;5;241;43m+\u001b[39;49m\u001b[43m \u001b[49m\u001b[38;5;241;43m1\u001b[39;49m\u001b[43m,\u001b[49m\u001b[43m \u001b[49m\u001b[43ml\u001b[49m\u001b[43m)\u001b[49m\n",
      "File \u001b[0;32m~/workspace/robinson-shensted/algo/algorithms.py:116\u001b[0m, in \u001b[0;36mchain_to_path_tableau.<locals>.path_tableau_rules\u001b[0;34m(a, b, k, l)\u001b[0m\n\u001b[1;32m    114\u001b[0m \u001b[38;5;28;01mmatch\u001b[39;00m a[k]:\n\u001b[1;32m    115\u001b[0m     \u001b[38;5;28;01mcase\u001b[39;00m \u001b[38;5;241m1\u001b[39m:\n\u001b[0;32m--> 116\u001b[0m         \u001b[38;5;28;01mif\u001b[39;00m \u001b[43mb\u001b[49m\u001b[43m[\u001b[49m\u001b[43ml\u001b[49m\u001b[43m]\u001b[49m \u001b[38;5;241m==\u001b[39m \u001b[38;5;241m2\u001b[39m \u001b[38;5;129;01mor\u001b[39;00m b[l] \u001b[38;5;241m==\u001b[39m \u001b[38;5;241m0\u001b[39m:  \u001b[38;5;66;03m# ajout d'un 1\u001b[39;00m\n\u001b[1;32m    117\u001b[0m             a[k] \u001b[38;5;241m=\u001b[39m \u001b[38;5;241m0\u001b[39m\n\u001b[1;32m    118\u001b[0m             \u001b[38;5;28;01mreturn\u001b[39;00m \u001b[38;5;241m0\u001b[39m, k, a\n",
      "\u001b[0;31mIndexError\u001b[0m: list index out of range"
     ]
    }
   ],
   "source": [
    "p_tabA, p_tabB = chain_to_path_tableau(cA)\n",
    "print(p_tab)"
   ]
  },
  {
   "cell_type": "markdown",
   "metadata": {},
   "source": [
    "### Roby relations"
   ]
  },
  {
   "cell_type": "code",
   "execution_count": 29,
   "metadata": {},
   "outputs": [
    {
     "name": "stdout",
     "output_type": "stream",
     "text": [
      "P: [2, 6, 4, 0, 1]\n",
      "   [8, 7, 5, 5, 3]\n",
      "Q: [2, 2, 7, 0, 4]\n",
      "   [5, 1, 6, 8, 3]\n"
     ]
    }
   ],
   "source": [
    "invP, invQ = roby_insertion(p)\n",
    "print(f\"P: {invP[1]}\\n   {invP[0]}\\nQ: {invQ[1]}\\n   {invQ[0]}\")"
   ]
  },
  {
   "cell_type": "code",
   "execution_count": 41,
   "metadata": {},
   "outputs": [
    {
     "ename": "SyntaxError",
     "evalue": "invalid syntax (4010639066.py, line 1)",
     "output_type": "error",
     "traceback": [
      "\u001b[0;36m  Cell \u001b[0;32mIn[41], line 1\u001b[0;36m\u001b[0m\n\u001b[0;31m    evacuation()? #(p_tab)\u001b[0m\n\u001b[0m                ^\u001b[0m\n\u001b[0;31mSyntaxError\u001b[0m\u001b[0;31m:\u001b[0m invalid syntax\n"
     ]
    }
   ],
   "source": [
    "evacuation(p_tab)"
   ]
  },
  {
   "cell_type": "markdown",
   "metadata": {},
   "source": [
    "### Janvier relations"
   ]
  },
  {
   "cell_type": "code",
   "execution_count": 30,
   "metadata": {
    "scrolled": true
   },
   "outputs": [
    {
     "name": "stdout",
     "output_type": "stream",
     "text": [
      "P: [8, 7, 7, 7, 7, 7]\n",
      "   [2, 6, 4, 5, 1, 3]\n",
      "Q: [8, 7, 6, 4, 3, 2]\n",
      "   [5, 1, 6, 8, 3]\n"
     ]
    }
   ],
   "source": [
    "styfP, styfQ = janvier_insertion(p)\n",
    "print(f\"P: {styfP[1]}\\n   {styfP[0]}\\nQ: {styfQ[1]}\\n   {invQ[0]}\")"
   ]
  },
  {
   "cell_type": "code",
   "execution_count": 44,
   "metadata": {},
   "outputs": [
    {
     "ename": "IndexError",
     "evalue": "list index out of range",
     "output_type": "error",
     "traceback": [
      "\u001b[0;31m---------------------------------------------------------------------------\u001b[0m",
      "\u001b[0;31mIndexError\u001b[0m                                Traceback (most recent call last)",
      "Cell \u001b[0;32mIn[44], line 1\u001b[0m\n\u001b[0;32m----> 1\u001b[0m \u001b[43mstandard_YFT_to_chain\u001b[49m\u001b[43m(\u001b[49m\u001b[43mstyfP\u001b[49m\u001b[43m)\u001b[49m\n",
      "File \u001b[0;32m~/workspace/robinson-shensted/algo/algorithms.py:388\u001b[0m, in \u001b[0;36mstandard_YFT_to_chain\u001b[0;34m(std_tab)\u001b[0m\n\u001b[1;32m    386\u001b[0m             std_tab[\u001b[38;5;241m1\u001b[39m][i] \u001b[38;5;241m=\u001b[39m \u001b[38;5;241m0\u001b[39m\n\u001b[1;32m    387\u001b[0m         \u001b[38;5;28;01melse\u001b[39;00m:\n\u001b[0;32m--> 388\u001b[0m             \u001b[43mshift_max\u001b[49m\u001b[43m(\u001b[49m\u001b[43mstd_tab\u001b[49m\u001b[43m,\u001b[49m\u001b[43m \u001b[49m\u001b[38;5;241;43m0\u001b[39;49m\u001b[43m)\u001b[49m\n\u001b[1;32m    389\u001b[0m     act \u001b[38;5;241m-\u001b[39m\u001b[38;5;241m=\u001b[39m \u001b[38;5;241m1\u001b[39m\n\u001b[1;32m    390\u001b[0m \u001b[38;5;28;01mreturn\u001b[39;00m res\n",
      "File \u001b[0;32m~/workspace/robinson-shensted/algo/algorithms.py:372\u001b[0m, in \u001b[0;36mstandard_YFT_to_chain.<locals>.shift_max\u001b[0;34m(tab, pos)\u001b[0m\n\u001b[1;32m    370\u001b[0m tab[\u001b[38;5;241m1\u001b[39m][pos \u001b[38;5;241m+\u001b[39m i] \u001b[38;5;241m=\u001b[39m tab[\u001b[38;5;241m1\u001b[39m][pos]\n\u001b[1;32m    371\u001b[0m tab[\u001b[38;5;241m1\u001b[39m][pos] \u001b[38;5;241m=\u001b[39m temp\n\u001b[0;32m--> 372\u001b[0m \u001b[38;5;28;01mreturn\u001b[39;00m \u001b[43mshift_max\u001b[49m\u001b[43m(\u001b[49m\u001b[43mtab\u001b[49m\u001b[43m,\u001b[49m\u001b[43m \u001b[49m\u001b[43mpos\u001b[49m\u001b[43m \u001b[49m\u001b[38;5;241;43m+\u001b[39;49m\u001b[43m \u001b[49m\u001b[43mi\u001b[49m\u001b[43m)\u001b[49m\n",
      "File \u001b[0;32m~/workspace/robinson-shensted/algo/algorithms.py:372\u001b[0m, in \u001b[0;36mstandard_YFT_to_chain.<locals>.shift_max\u001b[0;34m(tab, pos)\u001b[0m\n\u001b[1;32m    370\u001b[0m tab[\u001b[38;5;241m1\u001b[39m][pos \u001b[38;5;241m+\u001b[39m i] \u001b[38;5;241m=\u001b[39m tab[\u001b[38;5;241m1\u001b[39m][pos]\n\u001b[1;32m    371\u001b[0m tab[\u001b[38;5;241m1\u001b[39m][pos] \u001b[38;5;241m=\u001b[39m temp\n\u001b[0;32m--> 372\u001b[0m \u001b[38;5;28;01mreturn\u001b[39;00m \u001b[43mshift_max\u001b[49m\u001b[43m(\u001b[49m\u001b[43mtab\u001b[49m\u001b[43m,\u001b[49m\u001b[43m \u001b[49m\u001b[43mpos\u001b[49m\u001b[43m \u001b[49m\u001b[38;5;241;43m+\u001b[39;49m\u001b[43m \u001b[49m\u001b[43mi\u001b[49m\u001b[43m)\u001b[49m\n",
      "    \u001b[0;31m[... skipping similar frames: standard_YFT_to_chain.<locals>.shift_max at line 372 (2 times)]\u001b[0m\n",
      "File \u001b[0;32m~/workspace/robinson-shensted/algo/algorithms.py:372\u001b[0m, in \u001b[0;36mstandard_YFT_to_chain.<locals>.shift_max\u001b[0;34m(tab, pos)\u001b[0m\n\u001b[1;32m    370\u001b[0m tab[\u001b[38;5;241m1\u001b[39m][pos \u001b[38;5;241m+\u001b[39m i] \u001b[38;5;241m=\u001b[39m tab[\u001b[38;5;241m1\u001b[39m][pos]\n\u001b[1;32m    371\u001b[0m tab[\u001b[38;5;241m1\u001b[39m][pos] \u001b[38;5;241m=\u001b[39m temp\n\u001b[0;32m--> 372\u001b[0m \u001b[38;5;28;01mreturn\u001b[39;00m \u001b[43mshift_max\u001b[49m\u001b[43m(\u001b[49m\u001b[43mtab\u001b[49m\u001b[43m,\u001b[49m\u001b[43m \u001b[49m\u001b[43mpos\u001b[49m\u001b[43m \u001b[49m\u001b[38;5;241;43m+\u001b[39;49m\u001b[43m \u001b[49m\u001b[43mi\u001b[49m\u001b[43m)\u001b[49m\n",
      "File \u001b[0;32m~/workspace/robinson-shensted/algo/algorithms.py:360\u001b[0m, in \u001b[0;36mstandard_YFT_to_chain.<locals>.shift_max\u001b[0;34m(tab, pos)\u001b[0m\n\u001b[1;32m    358\u001b[0m \u001b[38;5;28;01mdef\u001b[39;00m \u001b[38;5;21mshift_max\u001b[39m(tab: STableau, pos: \u001b[38;5;28mint\u001b[39m) \u001b[38;5;241m-\u001b[39m\u001b[38;5;241m>\u001b[39m \u001b[38;5;28;01mNone\u001b[39;00m:\n\u001b[1;32m    359\u001b[0m     i \u001b[38;5;241m=\u001b[39m \u001b[38;5;241m1\u001b[39m\n\u001b[0;32m--> 360\u001b[0m     \u001b[38;5;28;01mwhile\u001b[39;00m \u001b[43mtab\u001b[49m\u001b[43m[\u001b[49m\u001b[38;5;241;43m0\u001b[39;49m\u001b[43m]\u001b[49m\u001b[43m[\u001b[49m\u001b[43mpos\u001b[49m\u001b[43m \u001b[49m\u001b[38;5;241;43m+\u001b[39;49m\u001b[43m \u001b[49m\u001b[43mi\u001b[49m\u001b[43m]\u001b[49m \u001b[38;5;241m==\u001b[39m \u001b[38;5;241m0\u001b[39m:\n\u001b[1;32m    361\u001b[0m         i \u001b[38;5;241m+\u001b[39m\u001b[38;5;241m=\u001b[39m \u001b[38;5;241m1\u001b[39m\n\u001b[1;32m    362\u001b[0m     \u001b[38;5;28;01mif\u001b[39;00m tab[\u001b[38;5;241m1\u001b[39m][pos \u001b[38;5;241m+\u001b[39m i] \u001b[38;5;241m==\u001b[39m \u001b[38;5;241m0\u001b[39m:\n",
      "\u001b[0;31mIndexError\u001b[0m: list index out of range"
     ]
    }
   ],
   "source": [
    "standard_YFT_to_chain(styfP)"
   ]
  },
  {
   "cell_type": "code",
   "execution_count": 43,
   "metadata": {},
   "outputs": [],
   "source": [
    "chain_to_standard_YFT"
   ]
  },
  {
   "cell_type": "code",
   "execution_count": null,
   "metadata": {},
   "outputs": [],
   "source": []
  }
 ],
 "metadata": {
  "kernelspec": {
   "display_name": "Python 3 (ipykernel)",
   "language": "python",
   "name": "python3"
  },
  "language_info": {
   "codemirror_mode": {
    "name": "ipython",
    "version": 3
   },
   "file_extension": ".py",
   "mimetype": "text/x-python",
   "name": "python",
   "nbconvert_exporter": "python",
   "pygments_lexer": "ipython3",
   "version": "3.10.10"
  }
 },
 "nbformat": 4,
 "nbformat_minor": 2
}
