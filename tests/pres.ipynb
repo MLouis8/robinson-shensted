{
 "cells": [
  {
   "cell_type": "code",
   "execution_count": 1,
   "metadata": {},
   "outputs": [],
   "source": [
    "import sys\n",
    "import numpy as np\n",
    "\n",
    "sys.path.append(\"/home/louis/workspace/robinson-shensted\")\n",
    "from algo import (\n",
    "    Permutation,\n",
    "    roby_insertion,\n",
    "    janvier_insertion,\n",
    "    permutation_to_growth_diagram,\n",
    "    permutation_to_chains_gd,\n",
    "    permutation_to_chains,\n",
    "    standard_YFT_to_chain,\n",
    "    chain_to_path_tableau,\n",
    "    chain_to_standard_YFT,\n",
    "    chains_to_growth_diagram,\n",
    "    evacuation,\n",
    "    display_involution\n",
    ")"
   ]
  },
  {
   "cell_type": "markdown",
   "metadata": {},
   "source": [
    "### Permutation"
   ]
  },
  {
   "cell_type": "code",
   "execution_count": 2,
   "metadata": {
    "scrolled": false
   },
   "outputs": [
    {
     "name": "stdout",
     "output_type": "stream",
     "text": [
      "[0. 0. 0. 0. 1. 0. 0. 0.]\n",
      "[1. 0. 0. 0. 0. 0. 0. 0.]\n",
      "[0. 0. 0. 0. 0. 0. 1. 0.]\n",
      "[0. 0. 0. 1. 0. 0. 0. 0.]\n",
      "[0. 0. 0. 0. 0. 1. 0. 0.]\n",
      "[0. 1. 0. 0. 0. 0. 0. 0.]\n",
      "[0. 0. 0. 0. 0. 0. 0. 1.]\n",
      "[0. 0. 1. 0. 0. 0. 0. 0.]\n"
     ]
    }
   ],
   "source": [
    "p = Permutation([7, 3, 1, 5, 8, 4, 6, 2])\n",
    "p._display_matrix()"
   ]
  },
  {
   "cell_type": "markdown",
   "metadata": {},
   "source": [
    "### Growth Diagram and chains"
   ]
  },
  {
   "cell_type": "code",
   "execution_count": 3,
   "metadata": {
    "scrolled": true
   },
   "outputs": [
    {
     "data": {
      "text/plain": [
       "array([[   0,    1,   11,   21,   22,  212,  222, 2122, 2222],\n",
       "       [   0,    1,    1,    2,   12,   22,  122,  222, 2212],\n",
       "       [   0,    1,    1,    2,   12,   22,   22,  212,  222],\n",
       "       [   0,    1,    1,    2,    2,   12,   12,   22,  122],\n",
       "       [   0,    1,    1,    2,    2,   12,   12,   22,   22],\n",
       "       [   0,    1,    1,    2,    2,    2,    2,   21,   21],\n",
       "       [   0,    0,    0,    1,    1,    1,    1,    2,    2],\n",
       "       [   0,    0,    0,    0,    0,    0,    0,    1,    1],\n",
       "       [   0,    0,    0,    0,    0,    0,    0,    0,    0]])"
      ]
     },
     "execution_count": 3,
     "metadata": {},
     "output_type": "execute_result"
    }
   ],
   "source": [
    "np.rot90(permutation_to_growth_diagram(p))"
   ]
  },
  {
   "cell_type": "code",
   "execution_count": 4,
   "metadata": {
    "scrolled": true
   },
   "outputs": [
    {
     "name": "stdout",
     "output_type": "stream",
     "text": [
      "[0, 1, 11, 21, 22, 212, 222, 2122, 2222]\n",
      "[0, 1, 2, 21, 22, 122, 222, 2212, 2222]\n"
     ]
    }
   ],
   "source": [
    "cA, cB = permutation_to_chains_gd(p)\n",
    "print(cA)\n",
    "print(cB)"
   ]
  },
  {
   "cell_type": "code",
   "execution_count": 5,
   "metadata": {
    "scrolled": true
   },
   "outputs": [
    {
     "name": "stdout",
     "output_type": "stream",
     "text": [
      "[0, 1, 11, 21, 22, 212, 222, 2122, 2222]\n",
      "[0, 1, 2, 21, 22, 122, 222, 2212, 2222]\n"
     ]
    }
   ],
   "source": [
    "cA, cB = permutation_to_chains(p)\n",
    "print(cA)\n",
    "print(cB)"
   ]
  },
  {
   "cell_type": "markdown",
   "metadata": {},
   "source": [
    "### Paths tableaux"
   ]
  },
  {
   "cell_type": "code",
   "execution_count": 6,
   "metadata": {
    "scrolled": false
   },
   "outputs": [
    {
     "name": "stdout",
     "output_type": "stream",
     "text": [
      "[2, 7, 5, 1] [3, 8, 6, 4]\n"
     ]
    }
   ],
   "source": [
    "p_tabA, p_tabB = chain_to_path_tableau(cA)\n",
    "print(p_tabA, p_tabB)"
   ]
  },
  {
   "cell_type": "markdown",
   "metadata": {},
   "source": [
    "### Roby relations"
   ]
  },
  {
   "cell_type": "code",
   "execution_count": 7,
   "metadata": {},
   "outputs": [
    {
     "name": "stdout",
     "output_type": "stream",
     "text": [
      "[ 2 6 4 1 ]\n",
      "[ 8 7 5 3 ]\n"
     ]
    }
   ],
   "source": [
    "invP, invQ = roby_insertion(p)\n",
    "display_involution(invP)"
   ]
  },
  {
   "cell_type": "code",
   "execution_count": 8,
   "metadata": {},
   "outputs": [
    {
     "name": "stdout",
     "output_type": "stream",
     "text": [
      "([0, 0, 0, 0], [0, 0, 0, 0])\n",
      "x: 1, y: 1\n",
      "([0, 0, 0, 0], [0, 8, 0, 0])\n",
      "x: 0, y: 1\n",
      "([0, 7, 0, 0], [0, 8, 0, 0])\n",
      "x: 1, y: 0\n",
      "([0, 7, 0, 0], [6, 8, 0, 0])\n",
      "x: 0, y: 0\n",
      "([2, 7, 0, 0], [6, 8, 0, 0])\n",
      "x: 1, y: 2\n",
      "([2, 7, 0, 0], [6, 8, 5, 0])\n",
      "x: 0, y: 2\n",
      "([2, 7, 4, 0], [6, 8, 5, 0])\n",
      "x: 1, y: 3\n",
      "([2, 7, 4, 0], [6, 8, 5, 3])\n",
      "x: 0, y: 3\n",
      "([2, 7, 4, 1], [6, 8, 5, 3])\n"
     ]
    },
    {
     "data": {
      "text/plain": [
       "([2, 7, 4, 1], [6, 8, 5, 3])"
      ]
     },
     "execution_count": 8,
     "metadata": {},
     "output_type": "execute_result"
    }
   ],
   "source": [
    "evacuation(invP)"
   ]
  },
  {
   "cell_type": "markdown",
   "metadata": {},
   "source": [
    "### Janvier relations"
   ]
  },
  {
   "cell_type": "code",
   "execution_count": 9,
   "metadata": {
    "scrolled": true
   },
   "outputs": [
    {
     "name": "stdout",
     "output_type": "stream",
     "text": [
      "P: [8, 7, 7, 7, 7, 7]\n",
      "   [2, 6, 4, 5, 1, 3]\n",
      "Q: [8, 7, 6, 4, 3, 2]\n",
      "   [5, 6]\n"
     ]
    }
   ],
   "source": [
    "styfP, styfQ = janvier_insertion(p)\n",
    "print(f\"P: {styfP[1]}\\n   {styfP[0]}\\nQ: {styfQ[1]}\\n   {invQ[0]}\")"
   ]
  },
  {
   "cell_type": "code",
   "execution_count": 10,
   "metadata": {},
   "outputs": [
    {
     "name": "stdout",
     "output_type": "stream",
     "text": [
      "Unexpected exception formatting exception. Falling back to standard exception\n"
     ]
    },
    {
     "name": "stderr",
     "output_type": "stream",
     "text": [
      "Traceback (most recent call last):\n",
      "  File \"/usr/lib/python3.10/site-packages/IPython/core/interactiveshell.py\", line 3505, in run_code\n",
      "    exec(code_obj, self.user_global_ns, self.user_ns)\n",
      "  File \"/tmp/ipykernel_8235/867545745.py\", line 1, in <module>\n",
      "    standard_YFT_to_chain(styfP)\n",
      "  File \"/home/louis/workspace/robinson-shensted/algo/algorithms.py\", line 383, in standard_YFT_to_chain\n",
      "  File \"/home/louis/workspace/robinson-shensted/algo/algorithms.py\", line 367, in shift_max\n",
      "    res: Chain = [0] * (act + 1)\n",
      "  File \"/home/louis/workspace/robinson-shensted/algo/algorithms.py\", line 367, in shift_max\n",
      "    res: Chain = [0] * (act + 1)\n",
      "  File \"/home/louis/workspace/robinson-shensted/algo/algorithms.py\", line 367, in shift_max\n",
      "    res: Chain = [0] * (act + 1)\n",
      "  [Previous line repeated 2 more times]\n",
      "  File \"/home/louis/workspace/robinson-shensted/algo/algorithms.py\", line 355, in shift_max\n",
      "    if tab[0][pos + i] > tab[0][pos]:\n",
      "IndexError: list index out of range\n",
      "\n",
      "During handling of the above exception, another exception occurred:\n",
      "\n",
      "Traceback (most recent call last):\n",
      "  File \"/usr/lib/python3.10/site-packages/IPython/core/interactiveshell.py\", line 2102, in showtraceback\n",
      "    stb = self.InteractiveTB.structured_traceback(\n",
      "  File \"/usr/lib/python3.10/site-packages/IPython/core/ultratb.py\", line 1310, in structured_traceback\n",
      "    return FormattedTB.structured_traceback(\n",
      "  File \"/usr/lib/python3.10/site-packages/IPython/core/ultratb.py\", line 1199, in structured_traceback\n",
      "    return VerboseTB.structured_traceback(\n",
      "  File \"/usr/lib/python3.10/site-packages/IPython/core/ultratb.py\", line 1052, in structured_traceback\n",
      "    formatted_exception = self.format_exception_as_a_whole(etype, evalue, etb, number_of_lines_of_context,\n",
      "  File \"/usr/lib/python3.10/site-packages/IPython/core/ultratb.py\", line 978, in format_exception_as_a_whole\n",
      "    frames.append(self.format_record(record))\n",
      "  File \"/usr/lib/python3.10/site-packages/IPython/core/ultratb.py\", line 878, in format_record\n",
      "    frame_info.lines, Colors, self.has_colors, lvals\n",
      "  File \"/usr/lib/python3.10/site-packages/IPython/core/ultratb.py\", line 712, in lines\n",
      "    return self._sd.lines\n",
      "  File \"/usr/lib/python3.10/site-packages/stack_data/utils.py\", line 144, in cached_property_wrapper\n",
      "    value = obj.__dict__[self.func.__name__] = self.func(obj)\n",
      "  File \"/usr/lib/python3.10/site-packages/stack_data/core.py\", line 734, in lines\n",
      "    pieces = self.included_pieces\n",
      "  File \"/usr/lib/python3.10/site-packages/stack_data/utils.py\", line 144, in cached_property_wrapper\n",
      "    value = obj.__dict__[self.func.__name__] = self.func(obj)\n",
      "  File \"/usr/lib/python3.10/site-packages/stack_data/core.py\", line 681, in included_pieces\n",
      "    pos = scope_pieces.index(self.executing_piece)\n",
      "  File \"/usr/lib/python3.10/site-packages/stack_data/utils.py\", line 144, in cached_property_wrapper\n",
      "    value = obj.__dict__[self.func.__name__] = self.func(obj)\n",
      "  File \"/usr/lib/python3.10/site-packages/stack_data/core.py\", line 660, in executing_piece\n",
      "    return only(\n",
      "  File \"/usr/lib/python3.10/site-packages/executing/executing.py\", line 190, in only\n",
      "    raise NotOneValueFound('Expected one value, found 0')\n",
      "executing.executing.NotOneValueFound: Expected one value, found 0\n"
     ]
    }
   ],
   "source": [
    "standard_YFT_to_chain(styfP)"
   ]
  },
  {
   "cell_type": "code",
   "execution_count": 43,
   "metadata": {},
   "outputs": [],
   "source": [
    "chain_to_standard_YFT"
   ]
  },
  {
   "cell_type": "code",
   "execution_count": null,
   "metadata": {},
   "outputs": [],
   "source": []
  }
 ],
 "metadata": {
  "kernelspec": {
   "display_name": "Python 3 (ipykernel)",
   "language": "python",
   "name": "python3"
  },
  "language_info": {
   "codemirror_mode": {
    "name": "ipython",
    "version": 3
   },
   "file_extension": ".py",
   "mimetype": "text/x-python",
   "name": "python",
   "nbconvert_exporter": "python",
   "pygments_lexer": "ipython3",
   "version": "3.10.10"
  }
 },
 "nbformat": 4,
 "nbformat_minor": 2
}
