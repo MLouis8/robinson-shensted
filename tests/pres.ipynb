{
 "cells": [
  {
   "cell_type": "code",
   "execution_count": 1,
   "metadata": {},
   "outputs": [],
   "source": [
    "import sys\n",
    "import numpy as np\n",
    "\n",
    "sys.path.append(\"/home/louis/workspace/robinson-shensted\")\n",
    "from algo import (\n",
    "    Permutation,\n",
    "    roby_insertion,\n",
    "    janvier_insertion,\n",
    "    permutation_to_growth_diagram,\n",
    "    permutation_to_chains_gd,\n",
    "    permutation_to_chains,\n",
    "    standard_YFT_to_chain,\n",
    "    chain_to_path_tableau,\n",
    "    chain_to_standard_YFT,\n",
    "    chains_to_growth_diagram,\n",
    "    evacuation,\n",
    "    display_involution\n",
    ")"
   ]
  },
  {
   "cell_type": "markdown",
   "metadata": {},
   "source": [
    "### Permutation"
   ]
  },
  {
   "cell_type": "code",
   "execution_count": 2,
   "metadata": {
    "scrolled": false
   },
   "outputs": [
    {
     "name": "stdout",
     "output_type": "stream",
     "text": [
      "[0. 0. 0. 0. 1. 0. 0. 0.]\n",
      "[1. 0. 0. 0. 0. 0. 0. 0.]\n",
      "[0. 0. 0. 0. 0. 0. 1. 0.]\n",
      "[0. 0. 0. 1. 0. 0. 0. 0.]\n",
      "[0. 0. 0. 0. 0. 1. 0. 0.]\n",
      "[0. 1. 0. 0. 0. 0. 0. 0.]\n",
      "[0. 0. 0. 0. 0. 0. 0. 1.]\n",
      "[0. 0. 1. 0. 0. 0. 0. 0.]\n"
     ]
    }
   ],
   "source": [
    "p = Permutation([7, 3, 1, 5, 8, 4, 6, 2])\n",
    "p._display_matrix()"
   ]
  },
  {
   "cell_type": "markdown",
   "metadata": {},
   "source": [
    "### Growth Diagram and chains"
   ]
  },
  {
   "cell_type": "code",
   "execution_count": 3,
   "metadata": {
    "scrolled": true
   },
   "outputs": [
    {
     "data": {
      "text/plain": [
       "array([[   0,    1,   11,   21,   22,  212,  222, 2122, 2222],\n",
       "       [   0,    1,    1,    2,   12,   22,  122,  222, 2212],\n",
       "       [   0,    1,    1,    2,   12,   22,   22,  212,  222],\n",
       "       [   0,    1,    1,    2,    2,   12,   12,   22,  122],\n",
       "       [   0,    1,    1,    2,    2,   12,   12,   22,   22],\n",
       "       [   0,    1,    1,    2,    2,    2,    2,   21,   21],\n",
       "       [   0,    0,    0,    1,    1,    1,    1,    2,    2],\n",
       "       [   0,    0,    0,    0,    0,    0,    0,    1,    1],\n",
       "       [   0,    0,    0,    0,    0,    0,    0,    0,    0]])"
      ]
     },
     "execution_count": 3,
     "metadata": {},
     "output_type": "execute_result"
    }
   ],
   "source": [
    "np.rot90(permutation_to_growth_diagram(p))"
   ]
  },
  {
   "cell_type": "code",
   "execution_count": 4,
   "metadata": {
    "scrolled": true
   },
   "outputs": [
    {
     "name": "stdout",
     "output_type": "stream",
     "text": [
      "[0, 1, 11, 21, 22, 212, 222, 2122, 2222]\n",
      "[0, 1, 2, 21, 22, 122, 222, 2212, 2222]\n"
     ]
    }
   ],
   "source": [
    "cA, cB = permutation_to_chains_gd(p)\n",
    "print(cA)\n",
    "print(cB)"
   ]
  },
  {
   "cell_type": "code",
   "execution_count": 5,
   "metadata": {
    "scrolled": true
   },
   "outputs": [
    {
     "name": "stdout",
     "output_type": "stream",
     "text": [
      "[0, 1, 11, 21, 22, 212, 222, 2122, 2222]\n",
      "[0, 1, 2, 21, 22, 122, 222, 2212, 2222]\n"
     ]
    }
   ],
   "source": [
    "cA, cB = permutation_to_chains(p)\n",
    "print(cA)\n",
    "print(cB)"
   ]
  },
  {
   "cell_type": "markdown",
   "metadata": {},
   "source": [
    "### Paths tableaux"
   ]
  },
  {
   "cell_type": "code",
   "execution_count": 6,
   "metadata": {
    "scrolled": false
   },
   "outputs": [
    {
     "name": "stdout",
     "output_type": "stream",
     "text": [
      "[2, 7, 5, 1] [3, 8, 6, 4]\n"
     ]
    }
   ],
   "source": [
    "p_tabA, p_tabB = chain_to_path_tableau(cA)\n",
    "print(p_tabA, p_tabB)"
   ]
  },
  {
   "cell_type": "markdown",
   "metadata": {},
   "source": [
    "### Roby relations"
   ]
  },
  {
   "cell_type": "code",
   "execution_count": 7,
   "metadata": {},
   "outputs": [
    {
     "name": "stdout",
     "output_type": "stream",
     "text": [
      "[ 2 6 4 1 ]\n",
      "[ 8 7 5 3 ]\n"
     ]
    }
   ],
   "source": [
    "invP, invQ = roby_insertion(p)\n",
    "display_involution(invP)"
   ]
  },
  {
   "cell_type": "code",
   "execution_count": 8,
   "metadata": {},
   "outputs": [
    {
     "name": "stdout",
     "output_type": "stream",
     "text": [
      "([0, 0, 0, 0], [0, 0, 0, 0])\n",
      "([0, 0, 0, 0], [8, 0, 0, 0])\n",
      "([7, 0, 0, 0], [8, 0, 0, 0])\n",
      "([7, 0, 0, 0], [8, 2, 0, 0])\n",
      "([7, 6, 0, 0], [8, 2, 0, 0])\n"
     ]
    },
    {
     "ename": "IndexError",
     "evalue": "list index out of range",
     "output_type": "error",
     "traceback": [
      "\u001b[0;31m---------------------------------------------------------------------------\u001b[0m",
      "\u001b[0;31mIndexError\u001b[0m                                Traceback (most recent call last)",
      "Cell \u001b[0;32mIn[8], line 1\u001b[0m\n\u001b[0;32m----> 1\u001b[0m \u001b[43mevacuation\u001b[49m\u001b[43m(\u001b[49m\u001b[43minvP\u001b[49m\u001b[43m)\u001b[49m\n",
      "File \u001b[0;32m~/workspace/robinson-shensted/algo/algorithms.py:85\u001b[0m, in \u001b[0;36mevacuation\u001b[0;34m(inv)\u001b[0m\n\u001b[1;32m     83\u001b[0m \u001b[38;5;28mprint\u001b[39m(path_tableau)\n\u001b[1;32m     84\u001b[0m \u001b[38;5;28;01mfor\u001b[39;00m i \u001b[38;5;129;01min\u001b[39;00m \u001b[38;5;28mrange\u001b[39m(inv[\u001b[38;5;241m0\u001b[39m][\u001b[38;5;241m0\u001b[39m]):\n\u001b[0;32m---> 85\u001b[0m     e, x, y \u001b[38;5;241m=\u001b[39m \u001b[43mfind_evac_point\u001b[49m\u001b[43m(\u001b[49m\u001b[43minv\u001b[49m\u001b[43m)\u001b[49m\n\u001b[1;32m     86\u001b[0m     path_tableau[x][y] \u001b[38;5;241m=\u001b[39m e\n\u001b[1;32m     87\u001b[0m     \u001b[38;5;28mprint\u001b[39m(path_tableau)\n",
      "File \u001b[0;32m~/workspace/robinson-shensted/algo/algorithms.py:76\u001b[0m, in \u001b[0;36mevacuation.<locals>.find_evac_point\u001b[0;34m(p)\u001b[0m\n\u001b[1;32m     73\u001b[0m         \u001b[38;5;28;01mreturn\u001b[39;00m compare_neighbors(j \u001b[38;5;241m+\u001b[39m \u001b[38;5;241m1\u001b[39m, i, inv)\n\u001b[1;32m     75\u001b[0m j \u001b[38;5;241m=\u001b[39m \u001b[38;5;241m0\u001b[39m\n\u001b[0;32m---> 76\u001b[0m \u001b[38;5;28;01mwhile\u001b[39;00m \u001b[43minv\u001b[49m\u001b[43m[\u001b[49m\u001b[38;5;241;43m0\u001b[39;49m\u001b[43m]\u001b[49m\u001b[43m[\u001b[49m\u001b[43mj\u001b[49m\u001b[43m]\u001b[49m \u001b[38;5;241m==\u001b[39m \u001b[38;5;241m0\u001b[39m:\n\u001b[1;32m     77\u001b[0m     j \u001b[38;5;241m+\u001b[39m\u001b[38;5;241m=\u001b[39m \u001b[38;5;241m1\u001b[39m\n\u001b[1;32m     78\u001b[0m tmp \u001b[38;5;241m=\u001b[39m inv[\u001b[38;5;241m0\u001b[39m][j]\n",
      "\u001b[0;31mIndexError\u001b[0m: list index out of range"
     ]
    }
   ],
   "source": [
    "evacuation(invP)"
   ]
  },
  {
   "cell_type": "markdown",
   "metadata": {},
   "source": [
    "### Janvier relations"
   ]
  },
  {
   "cell_type": "code",
   "execution_count": 9,
   "metadata": {
    "scrolled": true
   },
   "outputs": [
    {
     "name": "stdout",
     "output_type": "stream",
     "text": [
      "P: [8, 7, 7, 7, 7, 7]\n",
      "   [2, 6, 4, 5, 1, 3]\n",
      "Q: [8, 7, 6, 4, 3, 2]\n",
      "   [5, 6]\n"
     ]
    }
   ],
   "source": [
    "styfP, styfQ = janvier_insertion(p)\n",
    "print(f\"P: {styfP[1]}\\n   {styfP[0]}\\nQ: {styfQ[1]}\\n   {invQ[0]}\")"
   ]
  },
  {
   "cell_type": "code",
   "execution_count": 10,
   "metadata": {},
   "outputs": [
    {
     "ename": "IndexError",
     "evalue": "list index out of range",
     "output_type": "error",
     "traceback": [
      "\u001b[0;31m---------------------------------------------------------------------------\u001b[0m",
      "\u001b[0;31mIndexError\u001b[0m                                Traceback (most recent call last)",
      "Cell \u001b[0;32mIn[10], line 1\u001b[0m\n\u001b[0;32m----> 1\u001b[0m \u001b[43mstandard_YFT_to_chain\u001b[49m\u001b[43m(\u001b[49m\u001b[43mstyfP\u001b[49m\u001b[43m)\u001b[49m\n",
      "File \u001b[0;32m~/workspace/robinson-shensted/algo/algorithms.py:373\u001b[0m, in \u001b[0;36mstandard_YFT_to_chain\u001b[0;34m(std_tab)\u001b[0m\n\u001b[1;32m    371\u001b[0m             std_tab[\u001b[38;5;241m1\u001b[39m][i] \u001b[38;5;241m=\u001b[39m \u001b[38;5;241m0\u001b[39m\n\u001b[1;32m    372\u001b[0m         \u001b[38;5;28;01melse\u001b[39;00m:\n\u001b[0;32m--> 373\u001b[0m             \u001b[43mshift_max\u001b[49m\u001b[43m(\u001b[49m\u001b[43mstd_tab\u001b[49m\u001b[43m,\u001b[49m\u001b[43m \u001b[49m\u001b[38;5;241;43m0\u001b[39;49m\u001b[43m)\u001b[49m\n\u001b[1;32m    374\u001b[0m     act \u001b[38;5;241m-\u001b[39m\u001b[38;5;241m=\u001b[39m \u001b[38;5;241m1\u001b[39m\n\u001b[1;32m    375\u001b[0m \u001b[38;5;28;01mreturn\u001b[39;00m res\n",
      "File \u001b[0;32m~/workspace/robinson-shensted/algo/algorithms.py:357\u001b[0m, in \u001b[0;36mstandard_YFT_to_chain.<locals>.shift_max\u001b[0;34m(tab, pos)\u001b[0m\n\u001b[1;32m    355\u001b[0m tab[\u001b[38;5;241m1\u001b[39m][pos \u001b[38;5;241m+\u001b[39m i] \u001b[38;5;241m=\u001b[39m tab[\u001b[38;5;241m1\u001b[39m][pos]\n\u001b[1;32m    356\u001b[0m tab[\u001b[38;5;241m1\u001b[39m][pos] \u001b[38;5;241m=\u001b[39m temp\n\u001b[0;32m--> 357\u001b[0m \u001b[38;5;28;01mreturn\u001b[39;00m \u001b[43mshift_max\u001b[49m\u001b[43m(\u001b[49m\u001b[43mtab\u001b[49m\u001b[43m,\u001b[49m\u001b[43m \u001b[49m\u001b[43mpos\u001b[49m\u001b[43m \u001b[49m\u001b[38;5;241;43m+\u001b[39;49m\u001b[43m \u001b[49m\u001b[43mi\u001b[49m\u001b[43m)\u001b[49m\n",
      "File \u001b[0;32m~/workspace/robinson-shensted/algo/algorithms.py:357\u001b[0m, in \u001b[0;36mstandard_YFT_to_chain.<locals>.shift_max\u001b[0;34m(tab, pos)\u001b[0m\n\u001b[1;32m    355\u001b[0m tab[\u001b[38;5;241m1\u001b[39m][pos \u001b[38;5;241m+\u001b[39m i] \u001b[38;5;241m=\u001b[39m tab[\u001b[38;5;241m1\u001b[39m][pos]\n\u001b[1;32m    356\u001b[0m tab[\u001b[38;5;241m1\u001b[39m][pos] \u001b[38;5;241m=\u001b[39m temp\n\u001b[0;32m--> 357\u001b[0m \u001b[38;5;28;01mreturn\u001b[39;00m \u001b[43mshift_max\u001b[49m\u001b[43m(\u001b[49m\u001b[43mtab\u001b[49m\u001b[43m,\u001b[49m\u001b[43m \u001b[49m\u001b[43mpos\u001b[49m\u001b[43m \u001b[49m\u001b[38;5;241;43m+\u001b[39;49m\u001b[43m \u001b[49m\u001b[43mi\u001b[49m\u001b[43m)\u001b[49m\n",
      "    \u001b[0;31m[... skipping similar frames: standard_YFT_to_chain.<locals>.shift_max at line 357 (2 times)]\u001b[0m\n",
      "File \u001b[0;32m~/workspace/robinson-shensted/algo/algorithms.py:357\u001b[0m, in \u001b[0;36mstandard_YFT_to_chain.<locals>.shift_max\u001b[0;34m(tab, pos)\u001b[0m\n\u001b[1;32m    355\u001b[0m tab[\u001b[38;5;241m1\u001b[39m][pos \u001b[38;5;241m+\u001b[39m i] \u001b[38;5;241m=\u001b[39m tab[\u001b[38;5;241m1\u001b[39m][pos]\n\u001b[1;32m    356\u001b[0m tab[\u001b[38;5;241m1\u001b[39m][pos] \u001b[38;5;241m=\u001b[39m temp\n\u001b[0;32m--> 357\u001b[0m \u001b[38;5;28;01mreturn\u001b[39;00m \u001b[43mshift_max\u001b[49m\u001b[43m(\u001b[49m\u001b[43mtab\u001b[49m\u001b[43m,\u001b[49m\u001b[43m \u001b[49m\u001b[43mpos\u001b[49m\u001b[43m \u001b[49m\u001b[38;5;241;43m+\u001b[39;49m\u001b[43m \u001b[49m\u001b[43mi\u001b[49m\u001b[43m)\u001b[49m\n",
      "File \u001b[0;32m~/workspace/robinson-shensted/algo/algorithms.py:345\u001b[0m, in \u001b[0;36mstandard_YFT_to_chain.<locals>.shift_max\u001b[0;34m(tab, pos)\u001b[0m\n\u001b[1;32m    343\u001b[0m \u001b[38;5;28;01mdef\u001b[39;00m \u001b[38;5;21mshift_max\u001b[39m(tab: STableau, pos: \u001b[38;5;28mint\u001b[39m) \u001b[38;5;241m-\u001b[39m\u001b[38;5;241m>\u001b[39m \u001b[38;5;28;01mNone\u001b[39;00m:\n\u001b[1;32m    344\u001b[0m     i \u001b[38;5;241m=\u001b[39m \u001b[38;5;241m1\u001b[39m\n\u001b[0;32m--> 345\u001b[0m     \u001b[38;5;28;01mwhile\u001b[39;00m \u001b[43mtab\u001b[49m\u001b[43m[\u001b[49m\u001b[38;5;241;43m0\u001b[39;49m\u001b[43m]\u001b[49m\u001b[43m[\u001b[49m\u001b[43mpos\u001b[49m\u001b[43m \u001b[49m\u001b[38;5;241;43m+\u001b[39;49m\u001b[43m \u001b[49m\u001b[43mi\u001b[49m\u001b[43m]\u001b[49m \u001b[38;5;241m==\u001b[39m \u001b[38;5;241m0\u001b[39m:\n\u001b[1;32m    346\u001b[0m         i \u001b[38;5;241m+\u001b[39m\u001b[38;5;241m=\u001b[39m \u001b[38;5;241m1\u001b[39m\n\u001b[1;32m    347\u001b[0m     \u001b[38;5;28;01mif\u001b[39;00m tab[\u001b[38;5;241m1\u001b[39m][pos \u001b[38;5;241m+\u001b[39m i] \u001b[38;5;241m==\u001b[39m \u001b[38;5;241m0\u001b[39m:\n",
      "\u001b[0;31mIndexError\u001b[0m: list index out of range"
     ]
    }
   ],
   "source": [
    "standard_YFT_to_chain(styfP)"
   ]
  },
  {
   "cell_type": "code",
   "execution_count": 43,
   "metadata": {},
   "outputs": [],
   "source": [
    "chain_to_standard_YFT"
   ]
  },
  {
   "cell_type": "code",
   "execution_count": null,
   "metadata": {},
   "outputs": [],
   "source": []
  }
 ],
 "metadata": {
  "kernelspec": {
   "display_name": "Python 3 (ipykernel)",
   "language": "python",
   "name": "python3"
  },
  "language_info": {
   "codemirror_mode": {
    "name": "ipython",
    "version": 3
   },
   "file_extension": ".py",
   "mimetype": "text/x-python",
   "name": "python",
   "nbconvert_exporter": "python",
   "pygments_lexer": "ipython3",
   "version": "3.10.10"
  }
 },
 "nbformat": 4,
 "nbformat_minor": 2
}
